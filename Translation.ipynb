{
  "nbformat": 4,
  "nbformat_minor": 0,
  "metadata": {
    "kernelspec": {
      "display_name": "Python 3",
      "language": "python",
      "name": "python3"
    },
    "language_info": {
      "codemirror_mode": {
        "name": "ipython",
        "version": 3
      },
      "file_extension": ".py",
      "mimetype": "text/x-python",
      "name": "python",
      "nbconvert_exporter": "python",
      "pygments_lexer": "ipython3",
      "version": "3.7.4"
    },
    "colab": {
      "name": "Translation.ipynb",
      "provenance": []
    },
    "accelerator": "GPU"
  },
  "cells": [
    {
      "cell_type": "code",
      "metadata": {
        "id": "4jCzRMdEMMXI",
        "colab_type": "code",
        "colab": {}
      },
      "source": [
        "from google.colab import drive"
      ],
      "execution_count": 0,
      "outputs": []
    },
    {
      "cell_type": "code",
      "metadata": {
        "id": "cxBmQ9JCMSng",
        "colab_type": "code",
        "colab": {
          "base_uri": "https://localhost:8080/",
          "height": 54
        },
        "outputId": "9e953aee-56a7-4a83-eb39-56cb77bc7d24"
      },
      "source": [
        "drive.mount('/content/drive')"
      ],
      "execution_count": 4,
      "outputs": [
        {
          "output_type": "stream",
          "text": [
            "Drive already mounted at /content/drive; to attempt to forcibly remount, call drive.mount(\"/content/drive\", force_remount=True).\n"
          ],
          "name": "stdout"
        }
      ]
    },
    {
      "cell_type": "code",
      "metadata": {
        "id": "xA9SZok-MgI2",
        "colab_type": "code",
        "colab": {
          "base_uri": "https://localhost:8080/",
          "height": 408
        },
        "outputId": "e1e9a6b1-5b75-4f58-9449-ced0efc87710"
      },
      "source": [
        "!ls \"/content/drive/My Drive\""
      ],
      "execution_count": 5,
      "outputs": [
        {
          "output_type": "stream",
          "text": [
            " Barrons-800.gdoc\n",
            " Classroom\n",
            "'Colab Notebooks'\n",
            " Content-Based-Video-Search-TCS.zip\n",
            "'datasets links'\n",
            " fra.txt\n",
            "'[GigaCourse.com] Udemy - Deep Learning and Computer Vision A-Z™ OpenCV, SSD & GANs'\n",
            " glove.6B.100d.txt\n",
            " gre\n",
            "'How to get started with Drive.pdf'\n",
            " Icons\n",
            " ipgm_project\n",
            " magoos\n",
            "'Mike And Dave Need Wedding Dates (2016) [1080p] [YTS.AG]'\n",
            "'ml resume'\n",
            " project\n",
            "'Research papers (final-year project).gsheet'\n",
            " TCS_PROJECT\n",
            " Untitled0.ipynb\n",
            "'Untitled document.gdoc'\n",
            "'Untitled spreadsheet.gsheet'\n",
            " videos\n",
            " YOLOv3-Object-Detection-with-OpenCV\n"
          ],
          "name": "stdout"
        }
      ]
    },
    {
      "cell_type": "code",
      "metadata": {
        "id": "_IwP5Ox1MT6G",
        "colab_type": "code",
        "colab": {}
      },
      "source": [
        "# # https://deeplearningcourses.com/c/deep-learning-advanced-nlp\n",
        "# get the data at: http://www.manythings.org/anki/\n",
        "from __future__ import print_function, division\n",
        "from builtins import range, input\n",
        "# Note: you may need to update your version of future\n",
        "# sudo pip install -U future\n",
        "\n",
        "import os, sys\n",
        "\n",
        "from keras.models import Model\n",
        "from keras.layers import Input, LSTM, GRU, Dense, Embedding\n",
        "from keras.preprocessing.text import Tokenizer\n",
        "from keras.preprocessing.sequence import pad_sequences\n",
        "from keras.utils import to_categorical\n",
        "import numpy as np\n",
        "import matplotlib.pyplot as plt\n",
        "\n",
        "import keras.backend as K\n",
        "# if len(K.tensorflow_backend._get_available_gpus()) > 0:\n",
        "#   from keras.layers import CuDNNLSTM as LSTM\n",
        "#   from keras.layers import CuDNNGRU as GRU"
      ],
      "execution_count": 0,
      "outputs": []
    },
    {
      "cell_type": "code",
      "metadata": {
        "id": "qmYpBUQIMMXU",
        "colab_type": "code",
        "colab": {}
      },
      "source": [
        "# some config\n",
        "BATCH_SIZE = 64  # Batch size for training.\n",
        "EPOCHS = 40  # Number of epochs to train for.\n",
        "LATENT_DIM = 256  # Latent dimensionality of the encoding space.\n",
        "NUM_SAMPLES = 10000  # Number of samples to train on.\n",
        "MAX_NUM_WORDS = 20000\n",
        "EMBEDDING_DIM = 100\n",
        "\n",
        "# Where we will store the data\n",
        "input_texts = [] # sentence in original language\n",
        "target_texts = [] # sentence in target language\n",
        "target_texts_inputs = [] # sentence in target language offset by 1\n"
      ],
      "execution_count": 0,
      "outputs": []
    },
    {
      "cell_type": "code",
      "metadata": {
        "id": "ynchSkO6MMXb",
        "colab_type": "code",
        "colab": {
          "base_uri": "https://localhost:8080/",
          "height": 34
        },
        "outputId": "e77b6e7f-4fbb-4c36-c278-943082a43ab8"
      },
      "source": [
        "\n",
        "# load in the data\n",
        "# download the data at: http://www.manythings.org/anki/\n",
        "t = 0\n",
        "for line in open('/content/drive/My Drive/fra.txt'):\n",
        "  # only keep a limited number of samples\n",
        "  t += 1\n",
        "  if t > NUM_SAMPLES:\n",
        "    break\n",
        "\n",
        "  # input and target are separated by tab\n",
        "  if '\\t' not in line:\n",
        "    continue\n",
        "\n",
        "  # split up the input and translation\n",
        "  input_text, translation, *rest = line.rstrip().split('\\t')\n",
        "\n",
        "  # make the target input and output\n",
        "  # recall we'll be using teacher forcing\n",
        "  target_text = translation + ' <eos>'\n",
        "  target_text_input = '<sos> ' + translation\n",
        "\n",
        "  input_texts.append(input_text)\n",
        "  target_texts.append(target_text)\n",
        "  target_texts_inputs.append(target_text_input)\n",
        "print(\"num samples:\", len(input_texts))\n",
        "\n"
      ],
      "execution_count": 4,
      "outputs": [
        {
          "output_type": "stream",
          "text": [
            "num samples: 10000\n"
          ],
          "name": "stdout"
        }
      ]
    },
    {
      "cell_type": "code",
      "metadata": {
        "id": "Dd3A3-ZqMMXh",
        "colab_type": "code",
        "colab": {
          "base_uri": "https://localhost:8080/",
          "height": 34
        },
        "outputId": "f7190f80-641b-4bea-fd4b-1b0b6b5438ac"
      },
      "source": [
        "#  tokenize the inputs\n",
        "tokenizer_inputs = Tokenizer(num_words=MAX_NUM_WORDS)\n",
        "tokenizer_inputs.fit_on_texts(input_texts)\n",
        "input_sequences = tokenizer_inputs.texts_to_sequences(input_texts)\n",
        "\n",
        "# get the word to index mapping for input language\n",
        "word2idx_inputs = tokenizer_inputs.word_index\n",
        "print('Found %s unique input tokens.' % len(word2idx_inputs))\n",
        "\n",
        "# determine maximum length input sequence\n",
        "max_len_input = max(len(s) for s in input_sequences)"
      ],
      "execution_count": 5,
      "outputs": [
        {
          "output_type": "stream",
          "text": [
            "Found 2146 unique input tokens.\n"
          ],
          "name": "stdout"
        }
      ]
    },
    {
      "cell_type": "code",
      "metadata": {
        "id": "0AdyFe0oMMXm",
        "colab_type": "code",
        "colab": {
          "base_uri": "https://localhost:8080/",
          "height": 34
        },
        "outputId": "53fc6648-111d-4105-9cdf-1473b5408c35"
      },
      "source": [
        "# tokenize the outputs\n",
        "# don't filter out special characters\n",
        "# otherwise <sos> and <eos> won't appear\n",
        "tokenizer_outputs = Tokenizer(num_words=MAX_NUM_WORDS, filters='')\n",
        "tokenizer_outputs.fit_on_texts(target_texts + target_texts_inputs) # inefficient, oh well\n",
        "target_sequences = tokenizer_outputs.texts_to_sequences(target_texts)\n",
        "target_sequences_inputs = tokenizer_outputs.texts_to_sequences(target_texts_inputs)\n",
        "\n",
        "# get the word to index mapping for output language\n",
        "word2idx_outputs = tokenizer_outputs.word_index\n",
        "print('Found %s unique output tokens.' % len(word2idx_outputs))\n",
        "\n",
        "# store number of output words for later\n",
        "# remember to add 1 since indexing starts at 1\n",
        "num_words_output = len(word2idx_outputs) + 1\n",
        "\n",
        "# determine maximum length output sequence\n",
        "max_len_target = max(len(s) for s in target_sequences)\n",
        "\n"
      ],
      "execution_count": 6,
      "outputs": [
        {
          "output_type": "stream",
          "text": [
            "Found 5754 unique output tokens.\n"
          ],
          "name": "stdout"
        }
      ]
    },
    {
      "cell_type": "code",
      "metadata": {
        "id": "NhCqmsR7MMXt",
        "colab_type": "code",
        "colab": {
          "base_uri": "https://localhost:8080/",
          "height": 85
        },
        "outputId": "b04f1da6-d4cf-4b73-938c-ff3f932a589d"
      },
      "source": [
        "# pad the sequences\n",
        "encoder_inputs = pad_sequences(input_sequences, maxlen=max_len_input)\n",
        "print(\"encoder_inputs.shape:\", encoder_inputs.shape)\n",
        "print(\"encoder_inputs[0]:\", encoder_inputs[0])\n",
        "\n",
        "decoder_inputs = pad_sequences(target_sequences_inputs, maxlen=max_len_target, padding='post')\n",
        "print(\"decoder_inputs[0]:\", decoder_inputs[0])\n",
        "print(\"decoder_inputs.shape:\", decoder_inputs.shape)\n",
        "\n",
        "decoder_targets = pad_sequences(target_sequences, maxlen=max_len_target, padding='post')\n",
        "\n"
      ],
      "execution_count": 7,
      "outputs": [
        {
          "output_type": "stream",
          "text": [
            "encoder_inputs.shape: (10000, 5)\n",
            "encoder_inputs[0]: [ 0  0  0  0 15]\n",
            "decoder_inputs[0]: [ 2 57  4  0  0  0  0  0  0  0  0]\n",
            "decoder_inputs.shape: (10000, 11)\n"
          ],
          "name": "stdout"
        }
      ]
    },
    {
      "cell_type": "code",
      "metadata": {
        "id": "sfKwabYbMMXx",
        "colab_type": "code",
        "colab": {
          "base_uri": "https://localhost:8080/",
          "height": 51
        },
        "outputId": "e833c101-f9ac-4f86-be25-d2a17c5e7385"
      },
      "source": [
        "\n",
        "# store all the pre-trained word vectors\n",
        "print('Loading word vectors...')\n",
        "word2vec = {}\n",
        "with open('/content/drive/My Drive/glove.6B.100d.txt') as f:\n",
        "  # is just a space-separated text file in the format:\n",
        "  # word vec[0] vec[1] vec[2] ...\n",
        "  for line in f:\n",
        "    values = line.split()\n",
        "    word = values[0]\n",
        "    vec = np.asarray(values[1:], dtype='float32')\n",
        "    word2vec[word] = vec\n",
        "print('Found %s word vectors.' % len(word2vec))\n",
        "\n",
        "\n"
      ],
      "execution_count": 13,
      "outputs": [
        {
          "output_type": "stream",
          "text": [
            "Loading word vectors...\n",
            "Found 400000 word vectors.\n"
          ],
          "name": "stdout"
        }
      ]
    },
    {
      "cell_type": "code",
      "metadata": {
        "id": "x-mfAAd6MMX1",
        "colab_type": "code",
        "colab": {
          "base_uri": "https://localhost:8080/",
          "height": 34
        },
        "outputId": "3f5b4ac0-1367-40ab-d6ad-dc7ea59467db"
      },
      "source": [
        "\n",
        "# prepare embedding matrix\n",
        "print('Filling pre-trained embeddings...')\n",
        "num_words = min(MAX_NUM_WORDS, len(word2idx_inputs) + 1)\n",
        "embedding_matrix = np.zeros((num_words, EMBEDDING_DIM))\n",
        "for word, i in word2idx_inputs.items():\n",
        "  if i < MAX_NUM_WORDS:\n",
        "    embedding_vector = word2vec.get(word)\n",
        "    if embedding_vector is not None:\n",
        "      # words not found in embedding index will be all zeros.\n",
        "      embedding_matrix[i] = embedding_vector\n",
        "\n",
        "\n",
        "\n"
      ],
      "execution_count": 14,
      "outputs": [
        {
          "output_type": "stream",
          "text": [
            "Filling pre-trained embeddings...\n"
          ],
          "name": "stdout"
        }
      ]
    },
    {
      "cell_type": "code",
      "metadata": {
        "id": "L1ez8eUWMMX3",
        "colab_type": "code",
        "colab": {}
      },
      "source": [
        "# create embedding layer\n",
        "embedding_layer = Embedding(\n",
        "  num_words,\n",
        "  EMBEDDING_DIM,\n",
        "  weights=[embedding_matrix],\n",
        "  input_length=max_len_input,\n",
        "  # trainable=True\n",
        ")\n"
      ],
      "execution_count": 0,
      "outputs": []
    },
    {
      "cell_type": "code",
      "metadata": {
        "id": "3LgYDs6rMMX6",
        "colab_type": "code",
        "colab": {}
      },
      "source": [
        "# create targets, since we cannot use sparse\n",
        "# categorical cross entropy when we have sequences\n",
        "decoder_targets_one_hot = np.zeros(\n",
        "  (\n",
        "    len(input_texts),\n",
        "    max_len_target,\n",
        "    num_words_output\n",
        "  ),\n",
        "  dtype='float32'\n",
        ")\n"
      ],
      "execution_count": 0,
      "outputs": []
    },
    {
      "cell_type": "code",
      "metadata": {
        "id": "q774k8p8MMX8",
        "colab_type": "code",
        "colab": {}
      },
      "source": [
        "# assign the values\n",
        "for i, d in enumerate(decoder_targets):\n",
        "  for t, word in enumerate(d):\n",
        "    if word != 0:\n",
        "      decoder_targets_one_hot[i, t, word] = 1\n",
        "\n",
        "\n"
      ],
      "execution_count": 0,
      "outputs": []
    },
    {
      "cell_type": "code",
      "metadata": {
        "id": "3Nr7-db2MMX-",
        "colab_type": "code",
        "colab": {
          "base_uri": "https://localhost:8080/",
          "height": 34
        },
        "outputId": "71b840ee-8f86-4037-af81-9c4e9ed1f78c"
      },
      "source": [
        "decoder_targets_one_hot.shape"
      ],
      "execution_count": 18,
      "outputs": [
        {
          "output_type": "execute_result",
          "data": {
            "text/plain": [
              "(10000, 11, 5755)"
            ]
          },
          "metadata": {
            "tags": []
          },
          "execution_count": 18
        }
      ]
    },
    {
      "cell_type": "code",
      "metadata": {
        "id": "9sP2ZXYzMMYC",
        "colab_type": "code",
        "colab": {
          "base_uri": "https://localhost:8080/",
          "height": 102
        },
        "outputId": "668634fa-2e18-449e-bb27-b4ef796aa1a2"
      },
      "source": [
        "##### build the model #####\n",
        "encoder_inputs_placeholder = Input(shape=(max_len_input,))\n",
        "x = embedding_layer(encoder_inputs_placeholder)\n",
        "print(x.shape)\n",
        "encoder = LSTM(\n",
        "  LATENT_DIM,\n",
        "  return_state=True,\n",
        "  dropout=0.5 # dropout not available on gpu\n",
        ")\n",
        "# print(encoder.shape)\n",
        "encoder_outputs, h, c = encoder(x)\n",
        "print(encoder_outputs.shape)\n",
        "print(h.shape)\n",
        "print(c.shape)\n",
        "\n",
        "# encoder_outputs, h = encoder(x) #gru\n",
        "\n",
        "# keep only the states to pass into decoder\n",
        "encoder_states = [h, c]\n",
        "# print(encoder_states.shape)\n",
        "# encoder_states = [state_h] # gru\n",
        "\n",
        "# Set up the decoder, using [h, c] as initial state.\n",
        "decoder_inputs_placeholder = Input(shape=(max_len_target,))\n",
        "\n",
        "# this word embedding will not use pre-trained vectors\n",
        "# although you could\n",
        "decoder_embedding = Embedding(num_words_output, EMBEDDING_DIM)\n",
        "decoder_inputs_x = decoder_embedding(decoder_inputs_placeholder)\n",
        "print(decoder_inputs_x)\n",
        "# since the decoder is a \"to-many\" model we want to have\n",
        "# return_sequences=True\n",
        "decoder_lstm = LSTM(\n",
        "  LATENT_DIM,\n",
        "  return_sequences=True,\n",
        "  return_state=True,\n",
        "  # dropout=0.5 # dropout not available on gpu\n",
        ")\n",
        "decoder_outputs, _, _ = decoder_lstm(\n",
        "  decoder_inputs_x,\n",
        "  initial_state=encoder_states\n",
        ")\n"
      ],
      "execution_count": 19,
      "outputs": [
        {
          "output_type": "stream",
          "text": [
            "(None, 5, 100)\n",
            "(None, 256)\n",
            "(None, 256)\n",
            "(None, 256)\n",
            "Tensor(\"embedding_2/embedding_lookup/Identity_1:0\", shape=(None, 11, 100), dtype=float32)\n"
          ],
          "name": "stdout"
        }
      ]
    },
    {
      "cell_type": "code",
      "metadata": {
        "id": "2K2SO1LEMMYE",
        "colab_type": "code",
        "colab": {
          "base_uri": "https://localhost:8080/",
          "height": 34
        },
        "outputId": "f6857e21-d284-471e-c507-db85343a9ead"
      },
      "source": [
        "# final dense layer for predictions\n",
        "decoder_dense = Dense(num_words_output, activation='softmax')\n",
        "decoder_outputs = decoder_dense(decoder_outputs)\n",
        "# print(decoder_dense.shape)\n",
        "print(decoder_outputs.shape)"
      ],
      "execution_count": 20,
      "outputs": [
        {
          "output_type": "stream",
          "text": [
            "(None, 11, 5755)\n"
          ],
          "name": "stdout"
        }
      ]
    },
    {
      "cell_type": "code",
      "metadata": {
        "id": "Id3C3HUOMMYH",
        "colab_type": "code",
        "colab": {}
      },
      "source": [
        "# Create the model object\n",
        "model = Model([encoder_inputs_placeholder, decoder_inputs_placeholder], decoder_outputs)\n"
      ],
      "execution_count": 0,
      "outputs": []
    },
    {
      "cell_type": "code",
      "metadata": {
        "id": "IIT-OVfUMMYJ",
        "colab_type": "code",
        "colab": {}
      },
      "source": [
        "\n",
        "def custom_loss(y_true, y_pred):\n",
        "  # both are of shape N x T x K\n",
        "  mask = K.cast(y_true > 0, dtype='float32')\n",
        "  out = mask * y_true * K.log(y_pred)\n",
        "  return -K.sum(out) / K.sum(mask)\n",
        "\n"
      ],
      "execution_count": 0,
      "outputs": []
    },
    {
      "cell_type": "code",
      "metadata": {
        "id": "fyGD8ef2MMYM",
        "colab_type": "code",
        "colab": {}
      },
      "source": [
        "def acc(y_true, y_pred):\n",
        "  # both are of shape N x T x K\n",
        "  targ = K.argmax(y_true, axis=-1)\n",
        "  pred = K.argmax(y_pred, axis=-1)\n",
        "  correct = K.cast(K.equal(targ, pred), dtype='float32')\n",
        "\n",
        "  # 0 is padding, don't include those\n",
        "  mask = K.cast(K.greater(targ, 0), dtype='float32')\n",
        "  n_correct = K.sum(mask * correct)\n",
        "  n_total = K.sum(mask)\n",
        "  return n_correct / n_total\n"
      ],
      "execution_count": 0,
      "outputs": []
    },
    {
      "cell_type": "code",
      "metadata": {
        "id": "NFWNcFWZMMYO",
        "colab_type": "code",
        "colab": {}
      },
      "source": [
        "model.compile(optimizer='adam', loss=custom_loss, metrics=[acc])\n"
      ],
      "execution_count": 0,
      "outputs": []
    },
    {
      "cell_type": "code",
      "metadata": {
        "id": "naNiOBLYMMYR",
        "colab_type": "code",
        "colab": {
          "base_uri": "https://localhost:8080/",
          "height": 1000
        },
        "outputId": "7c7fbd11-6c38-4d0d-ca4e-50f4b744df13"
      },
      "source": [
        "r = model.fit(\n",
        "  [encoder_inputs, decoder_inputs], decoder_targets_one_hot,\n",
        "  batch_size=BATCH_SIZE,\n",
        "  epochs=EPOCHS,\n",
        "  validation_split=0.2,\n",
        ")"
      ],
      "execution_count": 25,
      "outputs": [
        {
          "output_type": "stream",
          "text": [
            "/usr/local/lib/python3.6/dist-packages/tensorflow/python/framework/indexed_slices.py:434: UserWarning: Converting sparse IndexedSlices to a dense Tensor of unknown shape. This may consume a large amount of memory.\n",
            "  \"Converting sparse IndexedSlices to a dense Tensor of unknown shape. \"\n"
          ],
          "name": "stderr"
        },
        {
          "output_type": "stream",
          "text": [
            "Train on 8000 samples, validate on 2000 samples\n",
            "Epoch 1/40\n",
            "8000/8000 [==============================] - 14s 2ms/step - loss: 5.6565 - acc: 0.2603 - val_loss: 5.3085 - val_acc: 0.2491\n",
            "Epoch 2/40\n",
            "8000/8000 [==============================] - 12s 1ms/step - loss: 4.6370 - acc: 0.2900 - val_loss: 5.1175 - val_acc: 0.2626\n",
            "Epoch 3/40\n",
            "8000/8000 [==============================] - 12s 1ms/step - loss: 4.2876 - acc: 0.3145 - val_loss: 4.9381 - val_acc: 0.2971\n",
            "Epoch 4/40\n",
            "8000/8000 [==============================] - 12s 1ms/step - loss: 3.9433 - acc: 0.3665 - val_loss: 4.7624 - val_acc: 0.3267\n",
            "Epoch 5/40\n",
            "8000/8000 [==============================] - 12s 1ms/step - loss: 3.6758 - acc: 0.4056 - val_loss: 4.6571 - val_acc: 0.3431\n",
            "Epoch 6/40\n",
            "8000/8000 [==============================] - 12s 1ms/step - loss: 3.4438 - acc: 0.4346 - val_loss: 4.5931 - val_acc: 0.3592\n",
            "Epoch 7/40\n",
            "8000/8000 [==============================] - 12s 1ms/step - loss: 3.2334 - acc: 0.4574 - val_loss: 4.5109 - val_acc: 0.3731\n",
            "Epoch 8/40\n",
            "8000/8000 [==============================] - 12s 1ms/step - loss: 3.0462 - acc: 0.4780 - val_loss: 4.4692 - val_acc: 0.3870\n",
            "Epoch 9/40\n",
            "8000/8000 [==============================] - 11s 1ms/step - loss: 2.8784 - acc: 0.4921 - val_loss: 4.4206 - val_acc: 0.3961\n",
            "Epoch 10/40\n",
            "8000/8000 [==============================] - 11s 1ms/step - loss: 2.7252 - acc: 0.5078 - val_loss: 4.3890 - val_acc: 0.3954\n",
            "Epoch 11/40\n",
            "8000/8000 [==============================] - 12s 1ms/step - loss: 2.5862 - acc: 0.5224 - val_loss: 4.3585 - val_acc: 0.4134\n",
            "Epoch 12/40\n",
            "8000/8000 [==============================] - 12s 1ms/step - loss: 2.4592 - acc: 0.5339 - val_loss: 4.3609 - val_acc: 0.4209\n",
            "Epoch 13/40\n",
            "8000/8000 [==============================] - 11s 1ms/step - loss: 2.3359 - acc: 0.5456 - val_loss: 4.3244 - val_acc: 0.4248\n",
            "Epoch 14/40\n",
            "8000/8000 [==============================] - 12s 1ms/step - loss: 2.2236 - acc: 0.5587 - val_loss: 4.3268 - val_acc: 0.4289\n",
            "Epoch 15/40\n",
            "8000/8000 [==============================] - 12s 1ms/step - loss: 2.1231 - acc: 0.5684 - val_loss: 4.3489 - val_acc: 0.4308\n",
            "Epoch 16/40\n",
            "8000/8000 [==============================] - 12s 1ms/step - loss: 2.0271 - acc: 0.5806 - val_loss: 4.3369 - val_acc: 0.4374\n",
            "Epoch 17/40\n",
            "8000/8000 [==============================] - 12s 1ms/step - loss: 1.9380 - acc: 0.5905 - val_loss: 4.3584 - val_acc: 0.4419\n",
            "Epoch 18/40\n",
            "8000/8000 [==============================] - 12s 1ms/step - loss: 1.8530 - acc: 0.6011 - val_loss: 4.3679 - val_acc: 0.4435\n",
            "Epoch 19/40\n",
            "8000/8000 [==============================] - 12s 1ms/step - loss: 1.7735 - acc: 0.6099 - val_loss: 4.3913 - val_acc: 0.4466\n",
            "Epoch 20/40\n",
            "8000/8000 [==============================] - 12s 1ms/step - loss: 1.7025 - acc: 0.6179 - val_loss: 4.3885 - val_acc: 0.4532\n",
            "Epoch 21/40\n",
            "8000/8000 [==============================] - 12s 1ms/step - loss: 1.6293 - acc: 0.6287 - val_loss: 4.4059 - val_acc: 0.4537\n",
            "Epoch 22/40\n",
            "8000/8000 [==============================] - 12s 1ms/step - loss: 1.5661 - acc: 0.6384 - val_loss: 4.4086 - val_acc: 0.4571\n",
            "Epoch 23/40\n",
            "8000/8000 [==============================] - 12s 1ms/step - loss: 1.5023 - acc: 0.6472 - val_loss: 4.4250 - val_acc: 0.4547\n",
            "Epoch 24/40\n",
            "8000/8000 [==============================] - 12s 1ms/step - loss: 1.4429 - acc: 0.6546 - val_loss: 4.4439 - val_acc: 0.4549\n",
            "Epoch 25/40\n",
            "8000/8000 [==============================] - 12s 1ms/step - loss: 1.3865 - acc: 0.6622 - val_loss: 4.4497 - val_acc: 0.4580\n",
            "Epoch 26/40\n",
            "8000/8000 [==============================] - 12s 1ms/step - loss: 1.3335 - acc: 0.6734 - val_loss: 4.4631 - val_acc: 0.4585\n",
            "Epoch 27/40\n",
            "8000/8000 [==============================] - 12s 1ms/step - loss: 1.2849 - acc: 0.6789 - val_loss: 4.4820 - val_acc: 0.4584\n",
            "Epoch 28/40\n",
            "8000/8000 [==============================] - 12s 1ms/step - loss: 1.2356 - acc: 0.6867 - val_loss: 4.5203 - val_acc: 0.4567\n",
            "Epoch 29/40\n",
            "8000/8000 [==============================] - 11s 1ms/step - loss: 1.1908 - acc: 0.6951 - val_loss: 4.5215 - val_acc: 0.4592\n",
            "Epoch 30/40\n",
            "8000/8000 [==============================] - 11s 1ms/step - loss: 1.1473 - acc: 0.7012 - val_loss: 4.5255 - val_acc: 0.4608\n",
            "Epoch 31/40\n",
            "8000/8000 [==============================] - 11s 1ms/step - loss: 1.1072 - acc: 0.7079 - val_loss: 4.5329 - val_acc: 0.4624\n",
            "Epoch 32/40\n",
            "8000/8000 [==============================] - 12s 1ms/step - loss: 1.0670 - acc: 0.7159 - val_loss: 4.5754 - val_acc: 0.4579\n",
            "Epoch 33/40\n",
            "8000/8000 [==============================] - 12s 1ms/step - loss: 1.0288 - acc: 0.7203 - val_loss: 4.5889 - val_acc: 0.4625\n",
            "Epoch 34/40\n",
            "8000/8000 [==============================] - 11s 1ms/step - loss: 0.9971 - acc: 0.7271 - val_loss: 4.6029 - val_acc: 0.4627\n",
            "Epoch 35/40\n",
            "8000/8000 [==============================] - 11s 1ms/step - loss: 0.9601 - acc: 0.7318 - val_loss: 4.6148 - val_acc: 0.4646\n",
            "Epoch 36/40\n",
            "8000/8000 [==============================] - 12s 1ms/step - loss: 0.9261 - acc: 0.7385 - val_loss: 4.6388 - val_acc: 0.4619\n",
            "Epoch 37/40\n",
            "8000/8000 [==============================] - 12s 1ms/step - loss: 0.8965 - acc: 0.7447 - val_loss: 4.6669 - val_acc: 0.4637\n",
            "Epoch 38/40\n",
            "8000/8000 [==============================] - 11s 1ms/step - loss: 0.8663 - acc: 0.7489 - val_loss: 4.6432 - val_acc: 0.4660\n",
            "Epoch 39/40\n",
            "8000/8000 [==============================] - 11s 1ms/step - loss: 0.8368 - acc: 0.7553 - val_loss: 4.6902 - val_acc: 0.4638\n",
            "Epoch 40/40\n",
            "8000/8000 [==============================] - 12s 1ms/step - loss: 0.8106 - acc: 0.7584 - val_loss: 4.6764 - val_acc: 0.4658\n"
          ],
          "name": "stdout"
        }
      ]
    },
    {
      "cell_type": "code",
      "metadata": {
        "id": "-fqW7kScMMYT",
        "colab_type": "code",
        "colab": {
          "base_uri": "https://localhost:8080/",
          "height": 265
        },
        "outputId": "76fdf203-a775-4791-bbab-0a03b3b449ba"
      },
      "source": [
        "# plot some data\n",
        "plt.plot(r.history['loss'], label='loss')\n",
        "plt.plot(r.history['val_loss'], label='val_loss')\n",
        "plt.legend()\n",
        "plt.show()"
      ],
      "execution_count": 26,
      "outputs": [
        {
          "output_type": "display_data",
          "data": {
            "image/png": "[encoded data removed]",
            "text/plain": [
              "<Figure size 432x288 with 1 Axes>"
            ]
          },
          "metadata": {
            "tags": [],
            "needs_background": "light"
          }
        }
      ]
    },
    {
      "cell_type": "code",
      "metadata": {
        "id": "SP-5CJvLSZeQ",
        "colab_type": "code",
        "colab": {
          "base_uri": "https://localhost:8080/",
          "height": 232
        },
        "outputId": "ef5114ab-2fb4-48a2-a766-9e1b3bd4ce48"
      },
      "source": [
        "# accuracies\n",
        "plt.plot(r.history['accuracy'], label='acc')\n",
        "plt.plot(r.history['val_accuracy'], label='val_acc')\n",
        "plt.legend()\n",
        "plt.show()"
      ],
      "execution_count": 27,
      "outputs": [
        {
          "output_type": "error",
          "ename": "KeyError",
          "evalue": "ignored",
          "traceback": [
            "\u001b[0;31m---------------------------------------------------------------------------\u001b[0m",
            "\u001b[0;31mKeyError\u001b[0m                                  Traceback (most recent call last)",
            "\u001b[0;32m<ipython-input-27-a0a7d784daeb>\u001b[0m in \u001b[0;36m<module>\u001b[0;34m()\u001b[0m\n\u001b[1;32m      1\u001b[0m \u001b[0;31m# accuracies\u001b[0m\u001b[0;34m\u001b[0m\u001b[0;34m\u001b[0m\u001b[0;34m\u001b[0m\u001b[0m\n\u001b[0;32m----> 2\u001b[0;31m \u001b[0mplt\u001b[0m\u001b[0;34m.\u001b[0m\u001b[0mplot\u001b[0m\u001b[0;34m(\u001b[0m\u001b[0mr\u001b[0m\u001b[0;34m.\u001b[0m\u001b[0mhistory\u001b[0m\u001b[0;34m[\u001b[0m\u001b[0;34m'accuracy'\u001b[0m\u001b[0;34m]\u001b[0m\u001b[0;34m,\u001b[0m \u001b[0mlabel\u001b[0m\u001b[0;34m=\u001b[0m\u001b[0;34m'acc'\u001b[0m\u001b[0;34m)\u001b[0m\u001b[0;34m\u001b[0m\u001b[0;34m\u001b[0m\u001b[0m\n\u001b[0m\u001b[1;32m      3\u001b[0m \u001b[0mplt\u001b[0m\u001b[0;34m.\u001b[0m\u001b[0mplot\u001b[0m\u001b[0;34m(\u001b[0m\u001b[0mr\u001b[0m\u001b[0;34m.\u001b[0m\u001b[0mhistory\u001b[0m\u001b[0;34m[\u001b[0m\u001b[0;34m'val_accuracy'\u001b[0m\u001b[0;34m]\u001b[0m\u001b[0;34m,\u001b[0m \u001b[0mlabel\u001b[0m\u001b[0;34m=\u001b[0m\u001b[0;34m'val_acc'\u001b[0m\u001b[0;34m)\u001b[0m\u001b[0;34m\u001b[0m\u001b[0;34m\u001b[0m\u001b[0m\n\u001b[1;32m      4\u001b[0m \u001b[0mplt\u001b[0m\u001b[0;34m.\u001b[0m\u001b[0mlegend\u001b[0m\u001b[0;34m(\u001b[0m\u001b[0;34m)\u001b[0m\u001b[0;34m\u001b[0m\u001b[0;34m\u001b[0m\u001b[0m\n\u001b[1;32m      5\u001b[0m \u001b[0mplt\u001b[0m\u001b[0;34m.\u001b[0m\u001b[0mshow\u001b[0m\u001b[0;34m(\u001b[0m\u001b[0;34m)\u001b[0m\u001b[0;34m\u001b[0m\u001b[0;34m\u001b[0m\u001b[0m\n",
            "\u001b[0;31mKeyError\u001b[0m: 'accuracy'"
          ]
        }
      ]
    },
    {
      "cell_type": "code",
      "metadata": {
        "id": "nvyNTs85ScOk",
        "colab_type": "code",
        "colab": {}
      },
      "source": [
        "# Save model\n",
        "model.save('s2s.h5')"
      ],
      "execution_count": 0,
      "outputs": []
    },
    {
      "cell_type": "code",
      "metadata": {
        "id": "u251TjyHSijR",
        "colab_type": "code",
        "colab": {}
      },
      "source": [
        "##### Make predictions #####\n",
        "# As with the poetry example, we need to create another model\n",
        "# that can take in the RNN state and previous word as input\n",
        "# and accept a T=1 sequence.\n",
        "\n",
        "# The encoder will be stand-alone\n",
        "# From this we will get our initial decoder hidden state\n",
        "encoder_model = Model(encoder_inputs_placeholder, encoder_states)\n",
        "\n",
        "decoder_state_input_h = Input(shape=(LATENT_DIM,))\n",
        "decoder_state_input_c = Input(shape=(LATENT_DIM,))\n",
        "decoder_states_inputs = [decoder_state_input_h, decoder_state_input_c]\n",
        "# decoder_states_inputs = [decoder_state_input_h] # gru\n",
        "\n",
        "decoder_inputs_single = Input(shape=(1,))\n",
        "decoder_inputs_single_x = decoder_embedding(decoder_inputs_single)\n",
        "\n",
        "# this time, we want to keep the states too, to be output\n",
        "# by our sampling model\n",
        "decoder_outputs, h, c = decoder_lstm(\n",
        "  decoder_inputs_single_x,\n",
        "  initial_state=decoder_states_inputs\n",
        ")\n",
        "# decoder_outputs, state_h = decoder_lstm(\n",
        "#   decoder_inputs_single_x,\n",
        "#   initial_state=decoder_states_inputs\n",
        "# ) #gru\n",
        "decoder_states = [h, c]\n",
        "# decoder_states = [h] # gru\n",
        "decoder_outputs = decoder_dense(decoder_outputs)\n"
      ],
      "execution_count": 0,
      "outputs": []
    },
    {
      "cell_type": "code",
      "metadata": {
        "id": "fnw6dDjkSoqL",
        "colab_type": "code",
        "colab": {}
      },
      "source": [
        "# The sampling model\n",
        "# inputs: y(t-1), h(t-1), c(t-1)\n",
        "# outputs: y(t), h(t), c(t)\n",
        "decoder_model = Model(\n",
        "  [decoder_inputs_single] + decoder_states_inputs, \n",
        "  [decoder_outputs] + decoder_states\n",
        ")\n",
        "\n",
        "# map indexes back into real words\n",
        "# so we can view the results\n",
        "idx2word_eng = {v:k for k, v in word2idx_inputs.items()}\n",
        "idx2word_trans = {v:k for k, v in word2idx_outputs.items()}\n"
      ],
      "execution_count": 0,
      "outputs": []
    },
    {
      "cell_type": "code",
      "metadata": {
        "id": "0vDeCd5-SsDj",
        "colab_type": "code",
        "colab": {}
      },
      "source": [
        "def decode_sequence(input_seq):\n",
        "  # Encode the input as state vectors.\n",
        "  states_value = encoder_model.predict(input_seq)\n",
        "\n",
        "  # Generate empty target sequence of length 1.\n",
        "  target_seq = np.zeros((1, 1))\n",
        "\n",
        "  # Populate the first character of target sequence with the start character.\n",
        "  # NOTE: tokenizer lower-cases all words\n",
        "  target_seq[0, 0] = word2idx_outputs['<sos>']\n",
        "\n",
        "  # if we get this we break\n",
        "  eos = word2idx_outputs['<eos>']\n",
        "\n",
        "  # Create the translation\n",
        "  output_sentence = []\n",
        "  for _ in range(max_len_target):\n",
        "    output_tokens, h, c = decoder_model.predict(\n",
        "      [target_seq] + states_value\n",
        "    )\n",
        "    # output_tokens, h = decoder_model.predict(\n",
        "    #     [target_seq] + states_value\n",
        "    # ) # gru\n",
        "\n",
        "    # Get next word\n",
        "    idx = np.argmax(output_tokens[0, 0, :])\n",
        "\n",
        "    # End sentence of EOS\n",
        "    if eos == idx:\n",
        "      break\n",
        "\n",
        "    word = ''\n",
        "    if idx > 0:\n",
        "      word = idx2word_trans[idx]\n",
        "      output_sentence.append(word)\n",
        "\n",
        "    # Update the decoder input\n",
        "    # which is just the word just generated\n",
        "    target_seq[0, 0] = idx\n",
        "\n",
        "    # Update states\n",
        "    states_value = [h, c]\n",
        "    # states_value = [h] # gru\n",
        "\n",
        "  return ' '.join(output_sentence)\n"
      ],
      "execution_count": 0,
      "outputs": []
    },
    {
      "cell_type": "code",
      "metadata": {
        "id": "64vo4EVwSxQU",
        "colab_type": "code",
        "colab": {
          "base_uri": "https://localhost:8080/",
          "height": 425
        },
        "outputId": "68bae86b-d48b-4130-b945-7eb73d2e9e56"
      },
      "source": [
        "while True:\n",
        "  # Do some test translations\n",
        "  i = np.random.choice(len(input_texts))\n",
        "  input_seq = encoder_inputs[i:i+1]\n",
        "  translation = decode_sequence(input_seq)\n",
        "  print('-')\n",
        "  print('Input:', input_texts[i])\n",
        "  print('Translation:', translation)\n",
        "\n",
        "  ans = input(\"Continue? [Y/n]\")\n",
        "  if ans and ans.lower().startswith('n'):\n",
        "    break"
      ],
      "execution_count": 32,
      "outputs": [
        {
          "output_type": "stream",
          "text": [
            "-\n",
            "Input: I'm happy, too.\n",
            "Translation: je suis également affairée.\n",
            "Continue? [Y/n]Y\n",
            "-\n",
            "Input: I didn't look.\n",
            "Translation: je n'ai pas regardé.\n",
            "Continue? [Y/n]Y\n",
            "-\n",
            "Input: May I come in?\n",
            "Translation: puis-je entrer ?\n",
            "Continue? [Y/n]Y\n",
            "-\n",
            "Input: I'm involved.\n",
            "Translation: je suis impliquée.\n",
            "Continue? [Y/n]Y\n",
            "-\n",
            "Input: Who is there?\n",
            "Translation: qui est là ?\n",
            "Continue? [Y/n]Y\n",
            "-\n",
            "Input: How's it going?\n",
            "Translation: comment cela se passe-t-il ?\n",
            "Continue? [Y/n]n\n"
          ],
          "name": "stdout"
        }
      ]
    },
    {
      "cell_type": "code",
      "metadata": {
        "id": "biqnx22YS0IL",
        "colab_type": "code",
        "colab": {}
      },
      "source": [
        ""
      ],
      "execution_count": 0,
      "outputs": []
    }
  ]
}